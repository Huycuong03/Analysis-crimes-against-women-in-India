{
 "cells": [
  {
   "cell_type": "markdown",
   "metadata": {},
   "source": [
    "## Import packages"
   ]
  },
  {
   "cell_type": "code",
   "execution_count": 1,
   "metadata": {},
   "outputs": [],
   "source": [
    "import pandas as pd\n",
    "import seaborn as sns\n",
    "import matplotlib.pyplot as plt"
   ]
  },
  {
   "cell_type": "markdown",
   "metadata": {},
   "source": [
    "## Extract data"
   ]
  },
  {
   "cell_type": "code",
   "execution_count": 3,
   "metadata": {},
   "outputs": [],
   "source": [
    "crimes = pd.read_csv('../data/42_Cases_under_crime_against_women.csv')"
   ]
  },
  {
   "cell_type": "code",
   "execution_count": 5,
   "metadata": {},
   "outputs": [],
   "source": [
    "adductions = pd.read_csv('../data/39_Specific_purpose_of_kidnapping_and_abduction.csv')"
   ]
  },
  {
   "cell_type": "markdown",
   "metadata": {},
   "source": [
    "## Data cleaning"
   ]
  },
  {
   "cell_type": "code",
   "execution_count": 7,
   "metadata": {},
   "outputs": [
    {
     "data": {
      "text/plain": [
       "(4165, 22)"
      ]
     },
     "execution_count": 7,
     "metadata": {},
     "output_type": "execute_result"
    }
   ],
   "source": [
    "crimes.shape"
   ]
  },
  {
   "cell_type": "code",
   "execution_count": 6,
   "metadata": {},
   "outputs": [
    {
     "name": "stdout",
     "output_type": "stream",
     "text": [
      "<class 'pandas.core.frame.DataFrame'>\n",
      "RangeIndex: 4165 entries, 0 to 4164\n",
      "Data columns (total 22 columns):\n",
      " #   Column                                                        Non-Null Count  Dtype \n",
      "---  ------                                                        --------------  ----- \n",
      " 0   Area_Name                                                     4165 non-null   object\n",
      " 1   Year                                                          4165 non-null   int64 \n",
      " 2   Group_Name                                                    4165 non-null   object\n",
      " 3   Sub_Group_Name                                                4165 non-null   object\n",
      " 4   Cases_Acquitted_or_Discharged                                 4165 non-null   int64 \n",
      " 5   Cases_charge_sheets_were_not_laid_but_Final_Report_submitted  4165 non-null   int64 \n",
      " 6   Cases_Chargesheeted                                           4165 non-null   int64 \n",
      " 7   Cases_Compounded_or_Withdrawn                                 4165 non-null   int64 \n",
      " 8   Cases_Convicted                                               4165 non-null   int64 \n",
      " 9   Cases_Declared_False_on_Account_of_Mistake_of_Fact_or_of_Law  4165 non-null   int64 \n",
      " 10  Cases_Investigated_Chargesheets+FR_Submitted                  4165 non-null   int64 \n",
      " 11  Cases_not_Investigated_or_in_which_investigation_was_refused  4165 non-null   int64 \n",
      " 12  Cases_Pending_Investigation_at_Year_End                       4165 non-null   int64 \n",
      " 13  Cases_Pending_Investigation_from_previous_year                4165 non-null   int64 \n",
      " 14  Cases_Pending_Trial_at_Year_End                               4165 non-null   int64 \n",
      " 15  Cases_Pending_Trial_from_the_previous_year                    4165 non-null   int64 \n",
      " 16  Cases_Reported                                                4165 non-null   int64 \n",
      " 17  Cases_Sent_for_Trial                                          4165 non-null   int64 \n",
      " 18  Cases_Trials_Completed                                        4165 non-null   int64 \n",
      " 19  Cases_Withdrawn_by_the_Govt                                   4165 non-null   int64 \n",
      " 20  Cases_withdrawn_by_the_Govt_during_investigation              4165 non-null   int64 \n",
      " 21  Total_Cases_for_Trial                                         4165 non-null   int64 \n",
      "dtypes: int64(19), object(3)\n",
      "memory usage: 716.0+ KB\n"
     ]
    }
   ],
   "source": [
    "crimes.info()"
   ]
  },
  {
   "cell_type": "markdown",
   "metadata": {},
   "source": [
    "table 'crimes' is clean"
   ]
  },
  {
   "cell_type": "code",
   "execution_count": 8,
   "metadata": {},
   "outputs": [
    {
     "data": {
      "text/plain": [
       "(3569, 20)"
      ]
     },
     "execution_count": 8,
     "metadata": {},
     "output_type": "execute_result"
    }
   ],
   "source": [
    "adductions.shape"
   ]
  },
  {
   "cell_type": "code",
   "execution_count": 9,
   "metadata": {},
   "outputs": [
    {
     "name": "stdout",
     "output_type": "stream",
     "text": [
      "<class 'pandas.core.frame.DataFrame'>\n",
      "RangeIndex: 3569 entries, 0 to 3568\n",
      "Data columns (total 20 columns):\n",
      " #   Column                     Non-Null Count  Dtype  \n",
      "---  ------                     --------------  -----  \n",
      " 0   Area_Name                  3569 non-null   object \n",
      " 1   Year                       3569 non-null   int64  \n",
      " 2   Group_Name                 3569 non-null   object \n",
      " 3   Sub_Group_Name             3569 non-null   object \n",
      " 4   K_A_Cases_Reported         3562 non-null   float64\n",
      " 5   K_A_Female_10_15_Years     3178 non-null   float64\n",
      " 6   K_A_Female_15_18_Years     3231 non-null   float64\n",
      " 7   K_A_Female_18_30_Years     3260 non-null   float64\n",
      " 8   K_A_Female_30_50_Years     3119 non-null   float64\n",
      " 9   K_A_Female_Above_50_Years  2948 non-null   float64\n",
      " 10  K_A_Female_Total           3407 non-null   float64\n",
      " 11  K_A_Female_Upto_10_Years   3074 non-null   float64\n",
      " 12  K_A_Grand_Total            3510 non-null   float64\n",
      " 13  K_A_Male_10_15_Years       3086 non-null   float64\n",
      " 14  K_A_Male_15_18_Years       3081 non-null   float64\n",
      " 15  K_A_Male_18_30_Years       3202 non-null   float64\n",
      " 16  K_A_Male_30_50_Years       3152 non-null   float64\n",
      " 17  K_A_Male_Above_50_Years    3011 non-null   float64\n",
      " 18  K_A_Male_Total             3312 non-null   float64\n",
      " 19  K_A_Male_Upto_10_Years     3098 non-null   float64\n",
      "dtypes: float64(16), int64(1), object(3)\n",
      "memory usage: 557.8+ KB\n"
     ]
    }
   ],
   "source": [
    "adductions.info()"
   ]
  },
  {
   "cell_type": "markdown",
   "metadata": {},
   "source": [
    "table 'adductions' contains null values"
   ]
  },
  {
   "cell_type": "code",
   "execution_count": 10,
   "metadata": {},
   "outputs": [
    {
     "data": {
      "text/html": [
       "<div>\n",
       "<style scoped>\n",
       "    .dataframe tbody tr th:only-of-type {\n",
       "        vertical-align: middle;\n",
       "    }\n",
       "\n",
       "    .dataframe tbody tr th {\n",
       "        vertical-align: top;\n",
       "    }\n",
       "\n",
       "    .dataframe thead th {\n",
       "        text-align: right;\n",
       "    }\n",
       "</style>\n",
       "<table border=\"1\" class=\"dataframe\">\n",
       "  <thead>\n",
       "    <tr style=\"text-align: right;\">\n",
       "      <th></th>\n",
       "      <th>Area_Name</th>\n",
       "      <th>Year</th>\n",
       "      <th>Group_Name</th>\n",
       "      <th>Sub_Group_Name</th>\n",
       "      <th>K_A_Cases_Reported</th>\n",
       "      <th>K_A_Female_10_15_Years</th>\n",
       "      <th>K_A_Female_15_18_Years</th>\n",
       "      <th>K_A_Female_18_30_Years</th>\n",
       "      <th>K_A_Female_30_50_Years</th>\n",
       "      <th>K_A_Female_Above_50_Years</th>\n",
       "      <th>K_A_Female_Total</th>\n",
       "      <th>K_A_Female_Upto_10_Years</th>\n",
       "      <th>K_A_Grand_Total</th>\n",
       "      <th>K_A_Male_10_15_Years</th>\n",
       "      <th>K_A_Male_15_18_Years</th>\n",
       "      <th>K_A_Male_18_30_Years</th>\n",
       "      <th>K_A_Male_30_50_Years</th>\n",
       "      <th>K_A_Male_Above_50_Years</th>\n",
       "      <th>K_A_Male_Total</th>\n",
       "      <th>K_A_Male_Upto_10_Years</th>\n",
       "    </tr>\n",
       "  </thead>\n",
       "  <tbody>\n",
       "    <tr>\n",
       "      <th>115</th>\n",
       "      <td>Tripura</td>\n",
       "      <td>2005</td>\n",
       "      <td>Kidnap - For Adoption</td>\n",
       "      <td>01. For Adoption</td>\n",
       "      <td>NaN</td>\n",
       "      <td>NaN</td>\n",
       "      <td>NaN</td>\n",
       "      <td>NaN</td>\n",
       "      <td>NaN</td>\n",
       "      <td>NaN</td>\n",
       "      <td>NaN</td>\n",
       "      <td>NaN</td>\n",
       "      <td>NaN</td>\n",
       "      <td>0.0</td>\n",
       "      <td>NaN</td>\n",
       "      <td>NaN</td>\n",
       "      <td>NaN</td>\n",
       "      <td>NaN</td>\n",
       "      <td>NaN</td>\n",
       "      <td>NaN</td>\n",
       "    </tr>\n",
       "    <tr>\n",
       "      <th>139</th>\n",
       "      <td>Tripura</td>\n",
       "      <td>2006</td>\n",
       "      <td>Kidnap - For Adoption</td>\n",
       "      <td>01. For Adoption</td>\n",
       "      <td>NaN</td>\n",
       "      <td>NaN</td>\n",
       "      <td>0.0</td>\n",
       "      <td>NaN</td>\n",
       "      <td>NaN</td>\n",
       "      <td>NaN</td>\n",
       "      <td>NaN</td>\n",
       "      <td>NaN</td>\n",
       "      <td>NaN</td>\n",
       "      <td>NaN</td>\n",
       "      <td>NaN</td>\n",
       "      <td>NaN</td>\n",
       "      <td>NaN</td>\n",
       "      <td>NaN</td>\n",
       "      <td>NaN</td>\n",
       "      <td>NaN</td>\n",
       "    </tr>\n",
       "    <tr>\n",
       "      <th>293</th>\n",
       "      <td>Madhya Pradesh</td>\n",
       "      <td>2003</td>\n",
       "      <td>Kidnap - For Begging</td>\n",
       "      <td>02. For Begging</td>\n",
       "      <td>NaN</td>\n",
       "      <td>NaN</td>\n",
       "      <td>NaN</td>\n",
       "      <td>NaN</td>\n",
       "      <td>NaN</td>\n",
       "      <td>NaN</td>\n",
       "      <td>0.0</td>\n",
       "      <td>NaN</td>\n",
       "      <td>0.0</td>\n",
       "      <td>NaN</td>\n",
       "      <td>NaN</td>\n",
       "      <td>NaN</td>\n",
       "      <td>NaN</td>\n",
       "      <td>NaN</td>\n",
       "      <td>0.0</td>\n",
       "      <td>NaN</td>\n",
       "    </tr>\n",
       "    <tr>\n",
       "      <th>510</th>\n",
       "      <td>Madhya Pradesh</td>\n",
       "      <td>2003</td>\n",
       "      <td>Kidnap - For Camel Racing</td>\n",
       "      <td>03. for Camel Racing</td>\n",
       "      <td>NaN</td>\n",
       "      <td>NaN</td>\n",
       "      <td>NaN</td>\n",
       "      <td>NaN</td>\n",
       "      <td>NaN</td>\n",
       "      <td>NaN</td>\n",
       "      <td>0.0</td>\n",
       "      <td>NaN</td>\n",
       "      <td>0.0</td>\n",
       "      <td>NaN</td>\n",
       "      <td>NaN</td>\n",
       "      <td>NaN</td>\n",
       "      <td>NaN</td>\n",
       "      <td>NaN</td>\n",
       "      <td>0.0</td>\n",
       "      <td>NaN</td>\n",
       "    </tr>\n",
       "    <tr>\n",
       "      <th>535</th>\n",
       "      <td>Tripura</td>\n",
       "      <td>2004</td>\n",
       "      <td>Kidnap - For Camel Racing</td>\n",
       "      <td>03. for Camel Racing</td>\n",
       "      <td>NaN</td>\n",
       "      <td>NaN</td>\n",
       "      <td>NaN</td>\n",
       "      <td>NaN</td>\n",
       "      <td>NaN</td>\n",
       "      <td>NaN</td>\n",
       "      <td>NaN</td>\n",
       "      <td>NaN</td>\n",
       "      <td>NaN</td>\n",
       "      <td>NaN</td>\n",
       "      <td>0.0</td>\n",
       "      <td>NaN</td>\n",
       "      <td>NaN</td>\n",
       "      <td>NaN</td>\n",
       "      <td>NaN</td>\n",
       "      <td>NaN</td>\n",
       "    </tr>\n",
       "    <tr>\n",
       "      <th>688</th>\n",
       "      <td>Chandigarh</td>\n",
       "      <td>2002</td>\n",
       "      <td>Kidnap - For Illicit Intercourse</td>\n",
       "      <td>04. For Illicit Intercourse</td>\n",
       "      <td>NaN</td>\n",
       "      <td>0.0</td>\n",
       "      <td>0.0</td>\n",
       "      <td>0.0</td>\n",
       "      <td>0.0</td>\n",
       "      <td>0.0</td>\n",
       "      <td>0.0</td>\n",
       "      <td>0.0</td>\n",
       "      <td>NaN</td>\n",
       "      <td>0.0</td>\n",
       "      <td>0.0</td>\n",
       "      <td>0.0</td>\n",
       "      <td>0.0</td>\n",
       "      <td>0.0</td>\n",
       "      <td>0.0</td>\n",
       "      <td>0.0</td>\n",
       "    </tr>\n",
       "    <tr>\n",
       "      <th>2299</th>\n",
       "      <td>Madhya Pradesh</td>\n",
       "      <td>2003</td>\n",
       "      <td>Kidnap - For Selling Bodyparts</td>\n",
       "      <td>10. For Selling Bodyparts</td>\n",
       "      <td>NaN</td>\n",
       "      <td>NaN</td>\n",
       "      <td>NaN</td>\n",
       "      <td>NaN</td>\n",
       "      <td>NaN</td>\n",
       "      <td>NaN</td>\n",
       "      <td>0.0</td>\n",
       "      <td>NaN</td>\n",
       "      <td>0.0</td>\n",
       "      <td>NaN</td>\n",
       "      <td>NaN</td>\n",
       "      <td>NaN</td>\n",
       "      <td>NaN</td>\n",
       "      <td>NaN</td>\n",
       "      <td>0.0</td>\n",
       "      <td>NaN</td>\n",
       "    </tr>\n",
       "  </tbody>\n",
       "</table>\n",
       "</div>"
      ],
      "text/plain": [
       "           Area_Name  Year                        Group_Name  \\\n",
       "115          Tripura  2005             Kidnap - For Adoption   \n",
       "139          Tripura  2006             Kidnap - For Adoption   \n",
       "293   Madhya Pradesh  2003              Kidnap - For Begging   \n",
       "510   Madhya Pradesh  2003         Kidnap - For Camel Racing   \n",
       "535          Tripura  2004         Kidnap - For Camel Racing   \n",
       "688       Chandigarh  2002  Kidnap - For Illicit Intercourse   \n",
       "2299  Madhya Pradesh  2003    Kidnap - For Selling Bodyparts   \n",
       "\n",
       "                   Sub_Group_Name  K_A_Cases_Reported  K_A_Female_10_15_Years  \\\n",
       "115              01. For Adoption                 NaN                     NaN   \n",
       "139              01. For Adoption                 NaN                     NaN   \n",
       "293               02. For Begging                 NaN                     NaN   \n",
       "510          03. for Camel Racing                 NaN                     NaN   \n",
       "535          03. for Camel Racing                 NaN                     NaN   \n",
       "688   04. For Illicit Intercourse                 NaN                     0.0   \n",
       "2299    10. For Selling Bodyparts                 NaN                     NaN   \n",
       "\n",
       "      K_A_Female_15_18_Years  K_A_Female_18_30_Years  K_A_Female_30_50_Years  \\\n",
       "115                      NaN                     NaN                     NaN   \n",
       "139                      0.0                     NaN                     NaN   \n",
       "293                      NaN                     NaN                     NaN   \n",
       "510                      NaN                     NaN                     NaN   \n",
       "535                      NaN                     NaN                     NaN   \n",
       "688                      0.0                     0.0                     0.0   \n",
       "2299                     NaN                     NaN                     NaN   \n",
       "\n",
       "      K_A_Female_Above_50_Years  K_A_Female_Total  K_A_Female_Upto_10_Years  \\\n",
       "115                         NaN               NaN                       NaN   \n",
       "139                         NaN               NaN                       NaN   \n",
       "293                         NaN               0.0                       NaN   \n",
       "510                         NaN               0.0                       NaN   \n",
       "535                         NaN               NaN                       NaN   \n",
       "688                         0.0               0.0                       0.0   \n",
       "2299                        NaN               0.0                       NaN   \n",
       "\n",
       "      K_A_Grand_Total  K_A_Male_10_15_Years  K_A_Male_15_18_Years  \\\n",
       "115               NaN                   0.0                   NaN   \n",
       "139               NaN                   NaN                   NaN   \n",
       "293               0.0                   NaN                   NaN   \n",
       "510               0.0                   NaN                   NaN   \n",
       "535               NaN                   NaN                   0.0   \n",
       "688               NaN                   0.0                   0.0   \n",
       "2299              0.0                   NaN                   NaN   \n",
       "\n",
       "      K_A_Male_18_30_Years  K_A_Male_30_50_Years  K_A_Male_Above_50_Years  \\\n",
       "115                    NaN                   NaN                      NaN   \n",
       "139                    NaN                   NaN                      NaN   \n",
       "293                    NaN                   NaN                      NaN   \n",
       "510                    NaN                   NaN                      NaN   \n",
       "535                    NaN                   NaN                      NaN   \n",
       "688                    0.0                   0.0                      0.0   \n",
       "2299                   NaN                   NaN                      NaN   \n",
       "\n",
       "      K_A_Male_Total  K_A_Male_Upto_10_Years  \n",
       "115              NaN                     NaN  \n",
       "139              NaN                     NaN  \n",
       "293              0.0                     NaN  \n",
       "510              0.0                     NaN  \n",
       "535              NaN                     NaN  \n",
       "688              0.0                     0.0  \n",
       "2299             0.0                     NaN  "
      ]
     },
     "execution_count": 10,
     "metadata": {},
     "output_type": "execute_result"
    }
   ],
   "source": [
    "adductions[adductions['K_A_Cases_Reported'].isna()]"
   ]
  },
  {
   "cell_type": "code",
   "execution_count": 11,
   "metadata": {},
   "outputs": [
    {
     "data": {
      "text/plain": [
       "(3562, 20)"
      ]
     },
     "execution_count": 11,
     "metadata": {},
     "output_type": "execute_result"
    }
   ],
   "source": [
    "adductions = adductions[~adductions['K_A_Cases_Reported'].isna()]\n",
    "adductions.shape"
   ]
  }
 ],
 "metadata": {
  "kernelspec": {
   "display_name": "Python 3",
   "language": "python",
   "name": "python3"
  },
  "language_info": {
   "codemirror_mode": {
    "name": "ipython",
    "version": 3
   },
   "file_extension": ".py",
   "mimetype": "text/x-python",
   "name": "python",
   "nbconvert_exporter": "python",
   "pygments_lexer": "ipython3",
   "version": "3.11.8"
  }
 },
 "nbformat": 4,
 "nbformat_minor": 2
}
